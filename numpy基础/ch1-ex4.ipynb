{
 "cells": [
  {
   "cell_type": "code",
   "execution_count": 1,
   "id": "11213a94",
   "metadata": {},
   "outputs": [],
   "source": [
    "import numpy as np"
   ]
  },
  {
   "cell_type": "code",
   "execution_count": 2,
   "id": "1a04f148",
   "metadata": {},
   "outputs": [],
   "source": [
    "np.random.seed(0)\n",
    "m,n,p = 100,80,50\n",
    "B = np.random.randint(0,2,(m,p))\n",
    "U = np.random.randint(0,2,(p,n))\n",
    "Z = np.random.randint(0,2,(m,n))"
   ]
  },
  {
   "cell_type": "code",
   "execution_count": 18,
   "id": "cf8458c4",
   "metadata": {},
   "outputs": [
    {
     "data": {
      "text/plain": [
       "30"
      ]
     },
     "execution_count": 18,
     "metadata": {},
     "output_type": "execute_result"
    }
   ],
   "source": [
    "B[0,:].dot(B[0,:])"
   ]
  },
  {
   "cell_type": "code",
   "execution_count": 13,
   "id": "5e644af7",
   "metadata": {},
   "outputs": [
    {
     "data": {
      "text/plain": [
       "array([1, 0, 0, 1, 1, 0, 1, 0, 1, 1, 1, 0, 0, 1, 1, 1, 1, 0, 0, 1, 0, 1,\n",
       "       0, 1, 1, 0, 0, 0, 1, 1, 1, 0, 0, 1, 0, 0, 0, 1, 1, 1, 0, 0, 1, 0,\n",
       "       0, 1, 1, 1, 0, 1])"
      ]
     },
     "execution_count": 13,
     "metadata": {},
     "output_type": "execute_result"
    }
   ],
   "source": [
    "U[:,0]"
   ]
  },
  {
   "cell_type": "code",
   "execution_count": 16,
   "id": "2b762e27",
   "metadata": {},
   "outputs": [
    {
     "data": {
      "text/plain": [
       "25"
      ]
     },
     "execution_count": 16,
     "metadata": {},
     "output_type": "execute_result"
    }
   ],
   "source": [
    "((B[0,:]-U[:,0])**2).sum()"
   ]
  },
  {
   "cell_type": "code",
   "execution_count": null,
   "id": "85c39cbc",
   "metadata": {},
   "outputs": [],
   "source": []
  }
 ],
 "metadata": {
  "kernelspec": {
   "display_name": "Python 3 (ipykernel)",
   "language": "python",
   "name": "python3"
  },
  "language_info": {
   "codemirror_mode": {
    "name": "ipython",
    "version": 3
   },
   "file_extension": ".py",
   "mimetype": "text/x-python",
   "name": "python",
   "nbconvert_exporter": "python",
   "pygments_lexer": "ipython3",
   "version": "3.8.13"
  }
 },
 "nbformat": 4,
 "nbformat_minor": 5
}
