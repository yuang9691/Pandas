{
 "cells": [
  {
   "cell_type": "code",
   "execution_count": 2,
   "id": "42655e39",
   "metadata": {},
   "outputs": [],
   "source": [
    "import numpy as np\n",
    "M1 = np.random.rand(2,3)\n",
    "M2 = np.random.rand(3,4)\n",
    "res = np.empty((M1.shape[0],M2.shape[1]))"
   ]
  },
  {
   "cell_type": "code",
   "execution_count": 3,
   "id": "c1f86e8e",
   "metadata": {},
   "outputs": [],
   "source": [
    "res =[ [sum([M1[i][k]*M2[k][j]for k in range(M1.shape[1])]) for j in range(M2.shape[1])]for i in range(M1.shape[0])]"
   ]
  },
  {
   "cell_type": "code",
   "execution_count": 4,
   "id": "a588f55c",
   "metadata": {},
   "outputs": [
    {
     "data": {
      "text/plain": [
       "True"
      ]
     },
     "execution_count": 4,
     "metadata": {},
     "output_type": "execute_result"
    }
   ],
   "source": [
    "((M1@M2-res)<1e-15).all()"
   ]
  },
  {
   "cell_type": "code",
   "execution_count": null,
   "id": "80af0228",
   "metadata": {},
   "outputs": [],
   "source": []
  }
 ],
 "metadata": {
  "kernelspec": {
   "display_name": "Python 3 (ipykernel)",
   "language": "python",
   "name": "python3"
  },
  "language_info": {
   "codemirror_mode": {
    "name": "ipython",
    "version": 3
   },
   "file_extension": ".py",
   "mimetype": "text/x-python",
   "name": "python",
   "nbconvert_exporter": "python",
   "pygments_lexer": "ipython3",
   "version": "3.8.13"
  }
 },
 "nbformat": 4,
 "nbformat_minor": 5
}
