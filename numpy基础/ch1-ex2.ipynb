{
 "cells": [
  {
   "cell_type": "code",
   "execution_count": 19,
   "id": "f8b1fff6",
   "metadata": {},
   "outputs": [],
   "source": [
    "#EX2-version-1\n",
    "from fractions import Fraction\n",
    "import numpy as np\n",
    "np.set_printoptions(formatter={'all':lambda x: str(Fraction(x).limit_denominator())})"
   ]
  },
  {
   "cell_type": "code",
   "execution_count": 20,
   "id": "cc8368a5",
   "metadata": {},
   "outputs": [],
   "source": [
    "array1 = np.arange(1,10,1).reshape(3,3)\n",
    "array2 = np.empty((3,3))"
   ]
  },
  {
   "cell_type": "code",
   "execution_count": 23,
   "id": "8e54add9",
   "metadata": {},
   "outputs": [],
   "source": [
    "for i in range(array1.shape[0]):\n",
    "    for j in range(array1.shape[1]):\n",
    "        temp =sum(list(map(lambda x:1.0/x,array1[i])))\n",
    "        array2[i][j] = array1[i][j]*temp   "
   ]
  },
  {
   "cell_type": "code",
   "execution_count": 24,
   "id": "e9e60317",
   "metadata": {},
   "outputs": [
    {
     "data": {
      "text/plain": [
       "array([[11/6, 11/3, 11/2],\n",
       "       [37/15, 37/12, 37/10],\n",
       "       [191/72, 191/63, 191/56]])"
      ]
     },
     "execution_count": 24,
     "metadata": {},
     "output_type": "execute_result"
    }
   ],
   "source": [
    "array2"
   ]
  },
  {
   "cell_type": "code",
   "execution_count": 99,
   "id": "72022036",
   "metadata": {},
   "outputs": [],
   "source": [
    "#EX2-version-2\n",
    "import numpy as np\n",
    "array1=np.arange(1,10).reshape(3,3)\n",
    "temp = 1/array1\n",
    "array2=np.full((3,3),temp.sum(1)).T*array1"
   ]
  },
  {
   "cell_type": "code",
   "execution_count": 100,
   "id": "c2c96691",
   "metadata": {},
   "outputs": [
    {
     "data": {
      "text/plain": [
       "array([[11/6, 11/3, 11/2],\n",
       "       [37/15, 37/12, 37/10],\n",
       "       [191/72, 191/63, 191/56]])"
      ]
     },
     "execution_count": 100,
     "metadata": {},
     "output_type": "execute_result"
    }
   ],
   "source": [
    "array2"
   ]
  },
  {
   "cell_type": "code",
   "execution_count": 109,
   "id": "1b50e277",
   "metadata": {},
   "outputs": [
    {
     "data": {
      "text/plain": [
       "array([[11/6, 11/3, 11/2],\n",
       "       [37/15, 37/12, 37/10],\n",
       "       [191/72, 191/63, 191/56]])"
      ]
     },
     "execution_count": 109,
     "metadata": {},
     "output_type": "execute_result"
    }
   ],
   "source": [
    "#EX2-version-3\n",
    "A = np.arange(1,10).reshape(3,-1)\n",
    "A*((1/A).sum(1).reshape(-1,1))"
   ]
  },
  {
   "cell_type": "code",
   "execution_count": null,
   "id": "c9e83770",
   "metadata": {},
   "outputs": [],
   "source": []
  }
 ],
 "metadata": {
  "kernelspec": {
   "display_name": "Python 3 (ipykernel)",
   "language": "python",
   "name": "python3"
  },
  "language_info": {
   "codemirror_mode": {
    "name": "ipython",
    "version": 3
   },
   "file_extension": ".py",
   "mimetype": "text/x-python",
   "name": "python",
   "nbconvert_exporter": "python",
   "pygments_lexer": "ipython3",
   "version": "3.8.13"
  }
 },
 "nbformat": 4,
 "nbformat_minor": 5
}
